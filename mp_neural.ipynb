{
  "nbformat": 4,
  "nbformat_minor": 0,
  "metadata": {
    "colab": {
      "name": "mp-neural.ipynb",
      "provenance": [],
      "collapsed_sections": [],
      "include_colab_link": true
    },
    "kernelspec": {
      "name": "python3",
      "display_name": "Python 3"
    }
  },
  "cells": [
    {
      "cell_type": "markdown",
      "metadata": {
        "id": "view-in-github",
        "colab_type": "text"
      },
      "source": [
        "<a href=\"https://colab.research.google.com/github/priyash555/fakenewsdetector/blob/master/mp_neural.ipynb\" target=\"_parent\"><img src=\"https://colab.research.google.com/assets/colab-badge.svg\" alt=\"Open In Colab\"/></a>"
      ]
    },
    {
      "cell_type": "code",
      "metadata": {
        "id": "EEvezeQgRn5h",
        "colab_type": "code",
        "colab": {}
      },
      "source": [
        " \n",
        "from getEmbeddings import getEmbeddings\n",
        "import matplotlib.pyplot as plt\n",
        "import numpy as np\n",
        "import keras\n",
        "from keras import backend as K\n",
        "from keras.utils import np_utils\n",
        "from keras.models import Sequential\n",
        "from keras.layers import Dense, Dropout, LSTM, Embedding, Input, RepeatVector\n",
        "from keras.optimizers import SGD\n",
        "from sklearn.preprocessing import LabelEncoder\n",
        "from sklearn.model_selection import train_test_split\n",
        "# import scikitplot.plotters as skplt\n",
        "import os\n",
        "import nltk"
      ],
      "execution_count": null,
      "outputs": []
    },
    {
      "cell_type": "code",
      "metadata": {
        "id": "d2iX04DEUH0_",
        "colab_type": "code",
        "colab": {}
      },
      "source": [
        "def plot_cmat(yte, ypred):\n",
        "    '''Plotting confusion matrix'''\n",
        "    skplt.plot_confusion_matrix(yte, ypred)\n",
        "    plt.show()"
      ],
      "execution_count": null,
      "outputs": []
    },
    {
      "cell_type": "code",
      "metadata": {
        "id": "YT6rGg8ucp_n",
        "colab_type": "code",
        "colab": {
          "base_uri": "https://localhost:8080/",
          "height": 67
        },
        "outputId": "58eb01d4-770d-4f81-ca94-f0ee38bbc6ac"
      },
      "source": [
        "nltk.download('stopwords')"
      ],
      "execution_count": null,
      "outputs": [
        {
          "output_type": "stream",
          "text": [
            "[nltk_data] Downloading package stopwords to /root/nltk_data...\n",
            "[nltk_data]   Package stopwords is already up-to-date!\n"
          ],
          "name": "stdout"
        },
        {
          "output_type": "execute_result",
          "data": {
            "text/plain": [
              "True"
            ]
          },
          "metadata": {
            "tags": []
          },
          "execution_count": 34
        }
      ]
    },
    {
      "cell_type": "code",
      "metadata": {
        "id": "cHE6xE78U_rA",
        "colab_type": "code",
        "colab": {}
      },
      "source": [
        "if not os.path.isfile('./xtr.npy') or \\\n",
        "    not os.path.isfile('./xte.npy') or \\\n",
        "    not os.path.isfile('./ytr.npy') or \\\n",
        "    not os.path.isfile('./yte.npy'):\n",
        "    xtr,xte,ytr,yte = getEmbeddings(\"datasets/train.csv\")\n",
        "    np.save('./xtr', xtr)\n",
        "    np.save('./xte', xte)\n",
        "    np.save('./ytr', ytr)\n",
        "    np.save('./yte', yte)\n",
        "\n",
        "xtr = np.load('./drive/My Drive/xtr.npy')\n",
        "xte = np.load('./drive/My Drive/xte.npy')\n",
        "ytr = np.load('./drive/My Drive/ytr.npy')\n",
        "yte = np.load('./drive/My Drive/yte.npy')"
      ],
      "execution_count": null,
      "outputs": []
    },
    {
      "cell_type": "code",
      "metadata": {
        "id": "VkJEojxFc23m",
        "colab_type": "code",
        "colab": {}
      },
      "source": [
        "def baseline_model():\n",
        "    '''Neural network with 3 hidden layers'''\n",
        "    model = Sequential()\n",
        "    model.add(Dense(256, input_dim=300, activation='relu', kernel_initializer='normal'))\n",
        "    model.add(Dropout(0.3))\n",
        "    model.add(Dense(256, activation='relu', kernel_initializer='normal'))\n",
        "    model.add(Dropout(0.5))\n",
        "    model.add(Dense(80, activation='relu', kernel_initializer='normal'))\n",
        "    model.add(Dense(2, activation=\"softmax\", kernel_initializer='normal'))\n",
        "\n",
        "    # gradient descent\n",
        "    sgd = SGD(lr=0.01, decay=1e-6, momentum=0.9, nesterov=True)\n",
        "    \n",
        "    # configure the learning process of the model\n",
        "    model.compile(loss='categorical_crossentropy', optimizer=sgd, metrics=['accuracy'])\n",
        "    return model"
      ],
      "execution_count": null,
      "outputs": []
    },
    {
      "cell_type": "code",
      "metadata": {
        "id": "TpDuuJyZc67M",
        "colab_type": "code",
        "colab": {
          "base_uri": "https://localhost:8080/",
          "height": 353
        },
        "outputId": "3a9ecd70-9c34-42ac-87f2-99412d25b930"
      },
      "source": [
        "model = baseline_model()\n",
        "model.summary()"
      ],
      "execution_count": null,
      "outputs": [
        {
          "output_type": "stream",
          "text": [
            "Model: \"sequential_1\"\n",
            "_________________________________________________________________\n",
            "Layer (type)                 Output Shape              Param #   \n",
            "=================================================================\n",
            "dense_1 (Dense)              (None, 256)               77056     \n",
            "_________________________________________________________________\n",
            "dropout_1 (Dropout)          (None, 256)               0         \n",
            "_________________________________________________________________\n",
            "dense_2 (Dense)              (None, 256)               65792     \n",
            "_________________________________________________________________\n",
            "dropout_2 (Dropout)          (None, 256)               0         \n",
            "_________________________________________________________________\n",
            "dense_3 (Dense)              (None, 80)                20560     \n",
            "_________________________________________________________________\n",
            "dense_4 (Dense)              (None, 2)                 162       \n",
            "=================================================================\n",
            "Total params: 163,570\n",
            "Trainable params: 163,570\n",
            "Non-trainable params: 0\n",
            "_________________________________________________________________\n"
          ],
          "name": "stdout"
        }
      ]
    },
    {
      "cell_type": "code",
      "metadata": {
        "id": "TpayQ52Rc96a",
        "colab_type": "code",
        "colab": {
          "base_uri": "https://localhost:8080/",
          "height": 756
        },
        "outputId": "13b17eab-6979-490f-f400-aa4eb94dde24"
      },
      "source": [
        "x_train, x_test, y_train, y_test = train_test_split(xtr, ytr, test_size=0.2, random_state=42)\n",
        "label_encoder = LabelEncoder()\n",
        "label_encoder.fit(y_train)\n",
        "encoded_y = np_utils.to_categorical((label_encoder.transform(y_train)))\n",
        "label_encoder.fit(y_test)\n",
        "encoded_y_test = np_utils.to_categorical((label_encoder.transform(y_test)))\n",
        "estimator = model.fit(x_train, encoded_y, epochs=20, batch_size=64)\n",
        "print(\"Model Trained!\")\n",
        "score = model.evaluate(x_test, encoded_y_test)\n",
        "print(\"\")\n",
        "print(\"Accuracy = \" + format(score[1]*100, '.2f') + \"%\")   # 92.69%\n",
        "\n",
        "probabs = model.predict_proba(x_test)\n",
        "y_pred = np.argmax(probabs, axis=1)"
      ],
      "execution_count": null,
      "outputs": [
        {
          "output_type": "stream",
          "text": [
            "Epoch 1/20\n",
            "13286/13286 [==============================] - 1s 67us/step - loss: 0.1228 - accuracy: 0.9522\n",
            "Epoch 2/20\n",
            "13286/13286 [==============================] - 1s 66us/step - loss: 0.1152 - accuracy: 0.9585\n",
            "Epoch 3/20\n",
            "13286/13286 [==============================] - 1s 66us/step - loss: 0.1115 - accuracy: 0.9583\n",
            "Epoch 4/20\n",
            "13286/13286 [==============================] - 1s 66us/step - loss: 0.1087 - accuracy: 0.9601\n",
            "Epoch 5/20\n",
            "13286/13286 [==============================] - 1s 66us/step - loss: 0.1044 - accuracy: 0.9604\n",
            "Epoch 6/20\n",
            "13286/13286 [==============================] - 1s 67us/step - loss: 0.0960 - accuracy: 0.9640\n",
            "Epoch 7/20\n",
            "13286/13286 [==============================] - 1s 67us/step - loss: 0.0939 - accuracy: 0.9649\n",
            "Epoch 8/20\n",
            "13286/13286 [==============================] - 1s 67us/step - loss: 0.0952 - accuracy: 0.9642\n",
            "Epoch 9/20\n",
            "13286/13286 [==============================] - 1s 67us/step - loss: 0.0957 - accuracy: 0.9654\n",
            "Epoch 10/20\n",
            "13286/13286 [==============================] - 1s 67us/step - loss: 0.0845 - accuracy: 0.9681\n",
            "Epoch 11/20\n",
            "13286/13286 [==============================] - 1s 65us/step - loss: 0.0889 - accuracy: 0.9656\n",
            "Epoch 12/20\n",
            "13286/13286 [==============================] - 1s 67us/step - loss: 0.0814 - accuracy: 0.9715\n",
            "Epoch 13/20\n",
            "13286/13286 [==============================] - 1s 66us/step - loss: 0.0808 - accuracy: 0.9690\n",
            "Epoch 14/20\n",
            "13286/13286 [==============================] - 1s 67us/step - loss: 0.0790 - accuracy: 0.9697\n",
            "Epoch 15/20\n",
            "13286/13286 [==============================] - 1s 66us/step - loss: 0.0804 - accuracy: 0.9700\n",
            "Epoch 16/20\n",
            "13286/13286 [==============================] - 1s 66us/step - loss: 0.0751 - accuracy: 0.9719\n",
            "Epoch 17/20\n",
            "13286/13286 [==============================] - 1s 67us/step - loss: 0.0684 - accuracy: 0.9749\n",
            "Epoch 18/20\n",
            "13286/13286 [==============================] - 1s 66us/step - loss: 0.0742 - accuracy: 0.9718\n",
            "Epoch 19/20\n",
            "13286/13286 [==============================] - 1s 67us/step - loss: 0.0670 - accuracy: 0.9763\n",
            "Epoch 20/20\n",
            "13286/13286 [==============================] - 1s 66us/step - loss: 0.0647 - accuracy: 0.9774\n",
            "Model Trained!\n",
            "3322/3322 [==============================] - 0s 28us/step\n",
            "\n",
            "Accuracy = 92.75%\n"
          ],
          "name": "stdout"
        }
      ]
    },
    {
      "cell_type": "code",
      "metadata": {
        "id": "B5Rl3JBydJmT",
        "colab_type": "code",
        "colab": {
          "base_uri": "https://localhost:8080/",
          "height": 349
        },
        "outputId": "debd0119-8d6b-4d6e-8a81-eba00dc03580"
      },
      "source": [
        "!pip install -q scikit-plot\n",
        "import scikitplot.plotters as skplt\n",
        "plot_cmat(y_test, y_pred)"
      ],
      "execution_count": null,
      "outputs": [
        {
          "output_type": "stream",
          "text": [
            "/usr/local/lib/python3.6/dist-packages/sklearn/utils/deprecation.py:87: FutureWarning: Function plot_confusion_matrix is deprecated; This will be removed in v0.4.0. Please use scikitplot.metrics.plot_confusion_matrix instead.\n",
            "  warnings.warn(msg, category=FutureWarning)\n"
          ],
          "name": "stderr"
        },
        {
          "output_type": "display_data",
          "data": {
            "image/png": "[encoded data removed]",
            "text/plain": [
              "<Figure size 432x288 with 2 Axes>"
            ]
          },
          "metadata": {
            "tags": [],
            "needs_background": "light"
          }
        }
      ]
    },
    {
      "cell_type": "code",
      "metadata": {
        "id": "TtJjaa-heky7",
        "colab_type": "code",
        "colab": {
          "base_uri": "https://localhost:8080/",
          "height": 34
        },
        "outputId": "d1708e47-78e0-4231-80c3-af131f2a5d98"
      },
      "source": [
        "import numpy as np\n",
        "from keras.datasets import imdb\n",
        "from keras.models import Sequential\n",
        "from keras.layers import Dense\n",
        "from keras.layers import LSTM\n",
        "from keras.layers.embeddings import Embedding\n",
        "from keras.preprocessing import sequence\n",
        "from collections import Counter\n",
        "import os\n",
        "# import getEmbeddings\n",
        "import matplotlib.pyplot as plt\n",
        "# import scikitplot.plotters as skplt"
      ],
      "execution_count": null,
      "outputs": [
        {
          "output_type": "stream",
          "text": [
            "Using TensorFlow backend.\n"
          ],
          "name": "stderr"
        }
      ]
    },
    {
      "cell_type": "code",
      "metadata": {
        "id": "wVUdLiCYnsYC",
        "colab_type": "code",
        "colab": {}
      },
      "source": [
        "top_words = 5000\n",
        "epoch_num = 5\n",
        "batch_size = 64"
      ],
      "execution_count": null,
      "outputs": []
    },
    {
      "cell_type": "code",
      "metadata": {
        "id": "2xeAXIfXoG3n",
        "colab_type": "code",
        "colab": {}
      },
      "source": [
        "def plot_cmat(yte, ypred):\n",
        "    '''Plotting confusion matrix'''\n",
        "    skplt.plot_confusion_matrix(yte, ypred)\n",
        "    plt.show()"
      ],
      "execution_count": null,
      "outputs": []
    },
    {
      "cell_type": "code",
      "metadata": {
        "id": "06sEJg9vuei6",
        "colab_type": "code",
        "colab": {}
      },
      "source": [
        "import numpy as np\n",
        "# save np.load\n",
        "np_load_old = np.load\n",
        "\n",
        "# modify the default parameters of np.load\n",
        "np.load = lambda *a,**k: np_load_old(*a, allow_pickle=True, **k)"
      ],
      "execution_count": null,
      "outputs": []
    },
    {
      "cell_type": "code",
      "metadata": {
        "id": "NsbAzJlQoKFK",
        "colab_type": "code",
        "colab": {}
      },
      "source": [
        "if not os.path.isfile('./drive/My Drive/xtr_shuffled.npy') or \\\n",
        "    not os.path.isfile('./drive/My Drive/xte_shuffled.npy') or \\\n",
        "    not os.path.isfile('./drive/My Drive/ytr_shuffled.npy') or \\\n",
        "    not os.path.isfile('./drive/My Drive/yte_shuffled.npy'):\n",
        "    getEmbeddings.clean_data()\n",
        "\n",
        "\n",
        "xtr = np.load('./drive/My Drive/xtr_shuffled.npy')\n",
        "xte = np.load('./drive/My Drive/xte_shuffled.npy')\n",
        "y_train = np.load('./drive/My Drive/ytr_shuffled.npy')\n",
        "y_test = np.load('./drive/My Drive/yte_shuffled.npy')\n",
        "\n",
        "np.load = np_load_old"
      ],
      "execution_count": null,
      "outputs": []
    },
    {
      "cell_type": "code",
      "metadata": {
        "id": "EiLVLQZyzJX7",
        "colab_type": "code",
        "colab": {
          "base_uri": "https://localhost:8080/",
          "height": 54
        },
        "outputId": "bdc2530f-a545-4e0e-84fc-f8696b198f23"
      },
      "source": [
        "xtr[3]"
      ],
      "execution_count": null,
      "outputs": [
        {
          "output_type": "execute_result",
          "data": {
            "text/plain": [
              "'phil kerpen kerpen october 31 2016 remington researchs summary polling data asserted race become increasingly competitive  last week found presidential race hillary clinton held clear advantage week find increasingly competitive race eight days go trump appears holding strong mustwin states colorado remains within margin error data also show pennsylvania moved margin error category presidential race remains competitive move final stretch hillary maintains advantage leading colorado pennsylvania point anything happen said titus bond director remington research group state polling data came sunday also showed closerace trump clinton although polls surveyed fbi director james comeys announcement reopening investigation clinton  via realclearpolitics  florida new york timessiena trump 46 percent clinton 42 percent nbcwall street journalmarist clinton 45 percent trump 44 percent gravis clinton 48 percent trump 47 percent colorado cbs newsyougov clinton 42 percent trump 39 percent arizona cbsyougov trump 44 percent clinton 42 percent north carolina nbcwall street journalmarist clinton 47 percent trump 41 percent gravis clinton 49 percent trump 47 percent cbs newsyougov clinton 48 percent trump 45 percent pennsylvania cbs newsyougov clinton 48 percent trump 40 percent fact polls close even comey announcement led observation fivethirtyeights nate silver things true 1 comey impact overblown nate silver natesilver538 october 31 2016 radio host steve deace writes conservative review early voting overwhelmingly favor clinton renewed fbi investigation could potentially huge impact election day trump defense election map defend states like arizona georgia utah indiana alaska rarely go blue election day quite conceivable yet another reminder stench corruption long surrounded clintons could sway bulk republicanleaning undecideds trump way provided course withstand compulsion negatively influence favorable news cycle prone do matter trump emerging evan mcmullin headache utah trump disciplined final week campaign may freedom focus efforts iowa nevada florida ohio north carolina five states would get within striking distance 265 electoral college votes hope pull upset colorado pennsylvania new mexico trump visiting campaign final week hope enough voters states wearier clinton corruption worried whether trump fit office fivethirtyeight currently trumps odds winning presidency 236 percent pollsplus forecast week crucial trump increasing odds maybe fbis reopened investigation clinton help improve odds becomes closer election day tags'"
            ]
          },
          "metadata": {
            "tags": []
          },
          "execution_count": 7
        }
      ]
    },
    {
      "cell_type": "code",
      "metadata": {
        "id": "C4bw3qH5uOOw",
        "colab_type": "code",
        "colab": {}
      },
      "source": [
        "cnt = Counter()\n",
        "x_train = []\n",
        "for x in xtr:\n",
        "    x_train.append(x.split())\n",
        "    for word in x_train[-1]:\n",
        "        cnt[word] += 1  \n",
        "\n",
        "# Storing most common words\n",
        "most_common = cnt.most_common(top_words + 1)\n",
        "word_bank = {}\n",
        "id_num = 1\n",
        "for word, freq in most_common:\n",
        "    word_bank[word] = id_num\n",
        "    id_num += 1"
      ],
      "execution_count": null,
      "outputs": []
    },
    {
      "cell_type": "code",
      "metadata": {
        "id": "rAedfHpNuR81",
        "colab_type": "code",
        "colab": {}
      },
      "source": [
        "for news in x_train:\n",
        "    i = 0\n",
        "    while i < len(news):\n",
        "        if news[i] in word_bank:\n",
        "            news[i] = word_bank[news[i]]\n",
        "            i += 1\n",
        "        else:\n",
        "            del news[i]\n",
        "\n",
        "y_train = list(y_train)\n",
        "y_test = list(y_test)"
      ],
      "execution_count": null,
      "outputs": []
    },
    {
      "cell_type": "code",
      "metadata": {
        "id": "MYZoFcTvurOm",
        "colab_type": "code",
        "colab": {}
      },
      "source": [
        "i = 0\n",
        "while i < len(x_train):\n",
        "    if len(x_train[i]) > 10:\n",
        "        i += 1\n",
        "    else:\n",
        "        del x_train[i]\n",
        "        del y_train[i]"
      ],
      "execution_count": null,
      "outputs": []
    },
    {
      "cell_type": "code",
      "metadata": {
        "id": "Fq8KKYvCuuG3",
        "colab_type": "code",
        "colab": {}
      },
      "source": [
        "x_test = []\n",
        "for x in xte:\n",
        "    x_test.append(x.split())"
      ],
      "execution_count": null,
      "outputs": []
    },
    {
      "cell_type": "code",
      "metadata": {
        "id": "1T54er1juw64",
        "colab_type": "code",
        "colab": {}
      },
      "source": [
        "for news in x_test:\n",
        "    i = 0\n",
        "    while i < len(news):\n",
        "        if news[i] in word_bank:\n",
        "            news[i] = word_bank[news[i]]\n",
        "            i += 1\n",
        "        else:\n",
        "            del news[i]"
      ],
      "execution_count": null,
      "outputs": []
    },
    {
      "cell_type": "code",
      "metadata": {
        "id": "0W4_tujtu0Q-",
        "colab_type": "code",
        "colab": {}
      },
      "source": [
        "max_review_length = 500\n",
        "X_train = sequence.pad_sequences(x_train, maxlen=max_review_length)\n",
        "X_test = sequence.pad_sequences(x_test, maxlen=max_review_length)\n",
        "\n",
        "# Convert to numpy arrays\n",
        "y_train = np.array(y_train)\n",
        "y_test = np.array(y_test)"
      ],
      "execution_count": null,
      "outputs": []
    },
    {
      "cell_type": "code",
      "metadata": {
        "id": "hZqhsZPl0UkU",
        "colab_type": "code",
        "colab": {
          "base_uri": "https://localhost:8080/",
          "height": 269
        },
        "outputId": "b8457abc-a43e-49ae-de82-f936b0db61af"
      },
      "source": [
        "embedding_vecor_length = 32\n",
        "model = Sequential()\n",
        "model.add(Embedding(top_words+2, embedding_vecor_length, input_length=max_review_length))\n",
        "model.add(LSTM(100))\n",
        "model.add(Dense(1, activation='sigmoid'))\n",
        "model.compile(loss='binary_crossentropy', optimizer='adam', metrics=['accuracy'])\n",
        "print(model.summary())"
      ],
      "execution_count": null,
      "outputs": [
        {
          "output_type": "stream",
          "text": [
            "Model: \"sequential_1\"\n",
            "_________________________________________________________________\n",
            "Layer (type)                 Output Shape              Param #   \n",
            "=================================================================\n",
            "embedding_1 (Embedding)      (None, 500, 32)           160064    \n",
            "_________________________________________________________________\n",
            "lstm_1 (LSTM)                (None, 100)               53200     \n",
            "_________________________________________________________________\n",
            "dense_1 (Dense)              (None, 1)                 101       \n",
            "=================================================================\n",
            "Total params: 213,365\n",
            "Trainable params: 213,365\n",
            "Non-trainable params: 0\n",
            "_________________________________________________________________\n",
            "None\n"
          ],
          "name": "stdout"
        }
      ]
    },
    {
      "cell_type": "code",
      "metadata": {
        "id": "mcMjhBnpu32F",
        "colab_type": "code",
        "colab": {
          "base_uri": "https://localhost:8080/",
          "height": 272
        },
        "outputId": "9feebe56-b031-4bda-a564-19d371b7332d"
      },
      "source": [
        "model.fit(X_train, y_train, validation_data=(X_test, y_test), epochs=epoch_num, batch_size=batch_size)\n",
        "\n",
        "# Final evaluation of the model\n",
        "scores = model.evaluate(X_test, y_test, verbose=0)\n",
        "print(\"Accuracy= %.2f%%\" % (scores[1]*100))\n",
        "\n",
        "# Draw the confusion matrix\n"
      ],
      "execution_count": null,
      "outputs": [
        {
          "output_type": "stream",
          "text": [
            "/usr/local/lib/python3.6/dist-packages/tensorflow/python/framework/indexed_slices.py:434: UserWarning: Converting sparse IndexedSlices to a dense Tensor of unknown shape. This may consume a large amount of memory.\n",
            "  \"Converting sparse IndexedSlices to a dense Tensor of unknown shape. \"\n"
          ],
          "name": "stderr"
        },
        {
          "output_type": "stream",
          "text": [
            "Train on 16034 samples, validate on 4153 samples\n",
            "Epoch 1/5\n",
            "16034/16034 [==============================] - 169s 11ms/step - loss: 0.2888 - accuracy: 0.8811 - val_loss: 0.3676 - val_accuracy: 0.8767\n",
            "Epoch 2/5\n",
            "16034/16034 [==============================] - 170s 11ms/step - loss: 0.2897 - accuracy: 0.9048 - val_loss: 0.2191 - val_accuracy: 0.9290\n",
            "Epoch 3/5\n",
            "16034/16034 [==============================] - 170s 11ms/step - loss: 0.2307 - accuracy: 0.9093 - val_loss: 0.2385 - val_accuracy: 0.9340\n",
            "Epoch 4/5\n",
            "16034/16034 [==============================] - 168s 10ms/step - loss: 0.1813 - accuracy: 0.9344 - val_loss: 0.1868 - val_accuracy: 0.9388\n",
            "Epoch 5/5\n",
            "16034/16034 [==============================] - 164s 10ms/step - loss: 0.1119 - accuracy: 0.9620 - val_loss: 0.1940 - val_accuracy: 0.9299\n",
            "Accuracy= 92.99%\n"
          ],
          "name": "stdout"
        }
      ]
    },
    {
      "cell_type": "code",
      "metadata": {
        "id": "cX19P3tgu7a2",
        "colab_type": "code",
        "colab": {
          "base_uri": "https://localhost:8080/",
          "height": 349
        },
        "outputId": "cf90d05c-6f01-4c2c-9135-083268288dd3"
      },
      "source": [
        "!pip install -q scikit-plot\n",
        "import scikitplot.plotters as skplt\n",
        "y_pred = model.predict_classes(X_test)\n",
        "plot_cmat(y_test, y_pred)"
      ],
      "execution_count": null,
      "outputs": [
        {
          "output_type": "stream",
          "text": [
            "/usr/local/lib/python3.6/dist-packages/sklearn/utils/deprecation.py:87: FutureWarning: Function plot_confusion_matrix is deprecated; This will be removed in v0.4.0. Please use scikitplot.metrics.plot_confusion_matrix instead.\n",
            "  warnings.warn(msg, category=FutureWarning)\n"
          ],
          "name": "stderr"
        },
        {
          "output_type": "display_data",
          "data": {
            "image/png": "[encoded data removed]",
            "text/plain": [
              "<Figure size 432x288 with 2 Axes>"
            ]
          },
          "metadata": {
            "tags": [],
            "needs_background": "light"
          }
        }
      ]
    },
    {
      "cell_type": "code",
      "metadata": {
        "id": "EUUT7g312WuT",
        "colab_type": "code",
        "colab": {
          "base_uri": "https://localhost:8080/",
          "height": 121
        },
        "outputId": "235ce71e-c12a-460f-c363-cdab04f01e9c"
      },
      "source": [
        "from google.colab import drive\n",
        "drive.mount('/content/drive')"
      ],
      "execution_count": null,
      "outputs": [
        {
          "output_type": "stream",
          "text": [
            "Go to this URL in a browser: https://accounts.google.com/o/oauth2/auth?client_id=947318989803-6bn6qk8qdgf4n4g3pfee6491hc0brc4i.apps.googleusercontent.com&redirect_uri=urn%3aietf%3awg%3aoauth%3a2.0%3aoob&response_type=code&scope=email%20https%3a%2f%2fwww.googleapis.com%2fauth%2fdocs.test%20https%3a%2f%2fwww.googleapis.com%2fauth%2fdrive%20https%3a%2f%2fwww.googleapis.com%2fauth%2fdrive.photos.readonly%20https%3a%2f%2fwww.googleapis.com%2fauth%2fpeopleapi.readonly\n",
            "\n",
            "Enter your authorization code:\n",
            "··········\n",
            "Mounted at /content/drive\n"
          ],
          "name": "stdout"
        }
      ]
    },
    {
      "cell_type": "code",
      "metadata": {
        "id": "r5IaGGfPytPZ",
        "colab_type": "code",
        "colab": {}
      },
      "source": [
        ""
      ],
      "execution_count": null,
      "outputs": []
    }
  ]
}